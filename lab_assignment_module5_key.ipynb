{
 "cells": [
  {
   "cell_type": "markdown",
   "metadata": {
    "id": "G0BcK0H_G1Iu"
   },
   "source": [
    "# **AP155 Lab Assignment**\n",
    "## Module 5: Partial Differential Equations\n",
    "\n",
    "_Instructions_: Answer each problem as completely as you can. Discuss **all** your answers as clearly and concisely as possible.\n",
    "\n",
    "_Scoring Criteria_: 50% - *correctness of code*; 50% - *discussion of the code and results*. Maximum score is **100 points**.\n",
    "\n"
   ]
  },
  {
   "cell_type": "markdown",
   "metadata": {
    "id": "PeHZ9kP8JaVR"
   },
   "source": [
    "### Student Information\n",
    "\n",
    "_Full Name (Last Name, First Name)_: \\\n",
    "_Student No._:\\\n",
    "_Section_:"
   ]
  },
  {
   "cell_type": "markdown",
   "metadata": {
    "id": "Hc183co-J4eI"
   },
   "source": [
    "### Submission Information\n",
    "\n",
    "_Date and Time Submitted (most recent upload)_:\n",
    "\n",
    "**HONOR PLEDGE** I affirm that I have upheld the highest principles of honesty and integrity in my academic work and that this lab assignment is my own work.\n",
    "\n",
    "**Sign here with your full name:**"
   ]
  },
  {
   "cell_type": "markdown",
   "metadata": {
    "id": "ZfImNZs6FgGA"
   },
   "source": [
    "### Grading Information (c/o Lab Instructor)\n",
    "\n",
    "TOTAL SCORE: **[]**/100\n",
    "\n",
    "Score breakdown:\n",
    "* Problem 1 - []/100\n",
    "\n",
    "_Date and Time Scored (MM/DD/YYYY HH:MM AM/PM):_"
   ]
  },
  {
   "cell_type": "markdown",
   "metadata": {
    "id": "LxWuqiCFMsEh"
   },
   "source": [
    "### PROBLEM 1\n",
    "**The Schrodinger equation and the Crank-Nicolson method**\n",
    "\n",
    "_Refer to Exercise 9.8 in the Newman text._ In this problem, you will use the Crank-Nicolson method to solve the full time-dependent Schrodinger equation and hence develop a picture of how a wavefunction evolves over time.\n",
    "\n",
    "Consider an electron (mass $M = 9.109 \\times 10^{-31}$ kg) in a box of length $L = 10^{-8}$ m. Suppose that at time $t = 0$ the wavefunction of the electron has the form\n",
    "\n",
    "$$ \\psi(x,0) = \\exp\\left[-\\frac{(x-x_0)^2}{2\\sigma^2}\\right]e^{i\\kappa x},$$\n",
    "where $x_0 = \\frac{L}{2}$, $\\sigma = 1 \\times 10^{-10}$ m, $\\kappa = 5 \\times 10^{10} {\\rm m}^{-1}$,  and $\\psi = 0$ on the walls at $x = 0$ and $x = L$."
   ]
  },
  {
   "cell_type": "markdown",
   "metadata": {
    "id": "VIkyCA1L2Vlt"
   },
   "source": [
    "1. Perform a single step of the Crank-Nicolson method for this electron, calculating the vector $\\psi(t)$ of values of the wavefunction, given the initial wavefunction above and using $N = 1000$ spatial slices with $a = L/N$. Your program will have to perform the following steps. First, given the vector $\\psi(0)$ at $t = 0$, you will have to multiply by the matrix $\\bf{B}$ to get a vector $\\bf{v} = \\bf{B}\\psi$. Because of the tridiagonal form of $\\bf{B}$, this is fairly simple. The $i$-th component of $\\bf{v}$ is given by\n",
    "$$ v_i = b_1\\psi_i + b_2(\\psi_{i+1} + \\psi_{i-1}).$$\n",
    "\n",
    "   You will also have to choose a value for the time-step $h$. A reasonable choice is $h = 10^{-18}$ s. *(30 pts.)*\n",
    "\n",
    "2. Second you will have to solve the linear system ${\\bf Ax}= {\\bf v}$ for $\\bf{x}$, which gives you the new value of $\\psi$. You could do this using a standard linear equation solver like the function $\\tt solve$ in numpy's $\\tt linalg$. *(20 pts.)*\n",
    "\n",
    "3. Once you have the code in place to perform a single step of the calculation, extend your program to perform repeated steps and hence solve for $\\psi$ at a sequence of times a separation $h$ apart. Note that the matrix $\\bf A$ is independent of time, so it doesn't change from one step to another. You can set up the matrix just once and then keep on reusing it for every step. *(30 pts.)*\n",
    "\n",
    "4. Make an animation of the solution by displaying the real part of the wavefunction at each time-step. You can use the function rate from the package visual to ensure a smooth frame-rate for your animation-- see Section 3.5 on page 117 of the Newman text.\n",
    "\n",
    "   Run your animation for a while and describe what you see. Write a few sentences explaining in physics terms what is going on in the system. *(20 pts.)*"
   ]
  },
  {
   "cell_type": "code",
   "execution_count": 1,
   "metadata": {},
   "outputs": [],
   "source": [
    "## import packages here\n",
    "import numpy as np"
   ]
  },
  {
   "cell_type": "code",
   "execution_count": 2,
   "metadata": {
    "id": "hMqWOsbIMoUh"
   },
   "outputs": [],
   "source": [
    "## define constants, variables, and functions\n",
    "m = 9.109 * 10 ** (-31)\n",
    "L = 10 ** (-8)\n",
    "x0 = L/2\n",
    "sigma = 10 ** (-10) \n",
    "k = 5 * 10 ** (10)\n",
    "N = 1000\n",
    "a = L / N\n",
    "h = 10 ** (-18)\n",
    "hbar = 1.054571817 * 10 ** (-34)\n",
    "\n",
    "def psi0(x):\n",
    "    return np.exp(-((x-x0)**2)/(2*sigma**2)) * np.exp(1j*k*x)"
   ]
  },
  {
   "cell_type": "code",
   "execution_count": 3,
   "metadata": {},
   "outputs": [],
   "source": [
    "## construct matrix A and B\n",
    "\n",
    "a1 = 1 + h * (1j * hbar)/(2 * m * a ** 2) \n",
    "a2 = -h * (1j * hbar)/(4 * m * a ** 2)\n",
    "\n",
    "b1 = 1 - h * (1j * hbar)/(2 * m * a ** 2) \n",
    "b2 = h * (1j * hbar)/(4 * m * a ** 2)\n",
    "\n",
    "A = np.zeros((N,N), dtype=complex); np.fill_diagonal(A, a1); np.fill_diagonal(A[1:], a2); np.fill_diagonal(A[:,1:], a2) \n",
    "B = np.zeros((N,N), dtype=complex); np.fill_diagonal(B, b1); np.fill_diagonal(B[1:], b2); np.fill_diagonal(B[:,1:], b2) \n",
    "\n",
    "v_list = []\n",
    "\n"
   ]
  },
  {
   "cell_type": "code",
   "execution_count": 2,
   "metadata": {},
   "outputs": [
    {
     "ename": "ContextualVersionConflict",
     "evalue": "(jupyter-server 1.23.4 (/Users/genebelinario/anaconda3/lib/python3.11/site-packages), Requirement.parse('jupyter-server>=1.24.0'), {'jupyter-server-proxy'})",
     "output_type": "error",
     "traceback": [
      "\u001b[0;31m---------------------------------------------------------------------------\u001b[0m",
      "\u001b[0;31mContextualVersionConflict\u001b[0m                 Traceback (most recent call last)",
      "Cell \u001b[0;32mIn[2], line 1\u001b[0m\n\u001b[0;32m----> 1\u001b[0m \u001b[38;5;28;01mimport\u001b[39;00m \u001b[38;5;21;01mvpython\u001b[39;00m\n",
      "File \u001b[0;32m~/anaconda3/lib/python3.11/site-packages/vpython/__init__.py:6\u001b[0m\n\u001b[1;32m      3\u001b[0m \u001b[38;5;28;01mfrom\u001b[39;00m \u001b[38;5;21;01m.\u001b[39;00m\u001b[38;5;21;01mgs_version\u001b[39;00m \u001b[38;5;28;01mimport\u001b[39;00m glowscript_version\n\u001b[1;32m      5\u001b[0m \u001b[38;5;28;01mtry\u001b[39;00m:\n\u001b[0;32m----> 6\u001b[0m     __version__ \u001b[38;5;241m=\u001b[39m get_distribution(\u001b[38;5;18m__name__\u001b[39m)\u001b[38;5;241m.\u001b[39mversion\n\u001b[1;32m      7\u001b[0m \u001b[38;5;28;01mexcept\u001b[39;00m DistributionNotFound:\n\u001b[1;32m      8\u001b[0m     \u001b[38;5;66;03m# package is not installed\u001b[39;00m\n\u001b[1;32m      9\u001b[0m     \u001b[38;5;28;01mpass\u001b[39;00m\n",
      "File \u001b[0;32m~/anaconda3/lib/python3.11/site-packages/pkg_resources/__init__.py:528\u001b[0m, in \u001b[0;36mget_distribution\u001b[0;34m(dist)\u001b[0m\n\u001b[1;32m    526\u001b[0m     dist \u001b[38;5;241m=\u001b[39m Requirement\u001b[38;5;241m.\u001b[39mparse(dist)\n\u001b[1;32m    527\u001b[0m \u001b[38;5;28;01mif\u001b[39;00m \u001b[38;5;28misinstance\u001b[39m(dist, Requirement):\n\u001b[0;32m--> 528\u001b[0m     dist \u001b[38;5;241m=\u001b[39m get_provider(dist)\n\u001b[1;32m    529\u001b[0m \u001b[38;5;28;01mif\u001b[39;00m \u001b[38;5;129;01mnot\u001b[39;00m \u001b[38;5;28misinstance\u001b[39m(dist, Distribution):\n\u001b[1;32m    530\u001b[0m     \u001b[38;5;28;01mraise\u001b[39;00m \u001b[38;5;167;01mTypeError\u001b[39;00m(\u001b[38;5;124m\"\u001b[39m\u001b[38;5;124mExpected string, Requirement, or Distribution\u001b[39m\u001b[38;5;124m\"\u001b[39m, dist)\n",
      "File \u001b[0;32m~/anaconda3/lib/python3.11/site-packages/pkg_resources/__init__.py:400\u001b[0m, in \u001b[0;36mget_provider\u001b[0;34m(moduleOrReq)\u001b[0m\n\u001b[1;32m    398\u001b[0m \u001b[38;5;250m\u001b[39m\u001b[38;5;124;03m\"\"\"Return an IResourceProvider for the named module or requirement\"\"\"\u001b[39;00m\n\u001b[1;32m    399\u001b[0m \u001b[38;5;28;01mif\u001b[39;00m \u001b[38;5;28misinstance\u001b[39m(moduleOrReq, Requirement):\n\u001b[0;32m--> 400\u001b[0m     \u001b[38;5;28;01mreturn\u001b[39;00m working_set\u001b[38;5;241m.\u001b[39mfind(moduleOrReq) \u001b[38;5;129;01mor\u001b[39;00m require(\u001b[38;5;28mstr\u001b[39m(moduleOrReq))[\u001b[38;5;241m0\u001b[39m]\n\u001b[1;32m    401\u001b[0m \u001b[38;5;28;01mtry\u001b[39;00m:\n\u001b[1;32m    402\u001b[0m     module \u001b[38;5;241m=\u001b[39m sys\u001b[38;5;241m.\u001b[39mmodules[moduleOrReq]\n",
      "File \u001b[0;32m~/anaconda3/lib/python3.11/site-packages/pkg_resources/__init__.py:968\u001b[0m, in \u001b[0;36mWorkingSet.require\u001b[0;34m(self, *requirements)\u001b[0m\n\u001b[1;32m    959\u001b[0m \u001b[38;5;28;01mdef\u001b[39;00m \u001b[38;5;21mrequire\u001b[39m(\u001b[38;5;28mself\u001b[39m, \u001b[38;5;241m*\u001b[39mrequirements):\n\u001b[1;32m    960\u001b[0m \u001b[38;5;250m    \u001b[39m\u001b[38;5;124;03m\"\"\"Ensure that distributions matching `requirements` are activated\u001b[39;00m\n\u001b[1;32m    961\u001b[0m \n\u001b[1;32m    962\u001b[0m \u001b[38;5;124;03m    `requirements` must be a string or a (possibly-nested) sequence\u001b[39;00m\n\u001b[0;32m   (...)\u001b[0m\n\u001b[1;32m    966\u001b[0m \u001b[38;5;124;03m    included, even if they were already activated in this working set.\u001b[39;00m\n\u001b[1;32m    967\u001b[0m \u001b[38;5;124;03m    \"\"\"\u001b[39;00m\n\u001b[0;32m--> 968\u001b[0m     needed \u001b[38;5;241m=\u001b[39m \u001b[38;5;28mself\u001b[39m\u001b[38;5;241m.\u001b[39mresolve(parse_requirements(requirements))\n\u001b[1;32m    970\u001b[0m     \u001b[38;5;28;01mfor\u001b[39;00m dist \u001b[38;5;129;01min\u001b[39;00m needed:\n\u001b[1;32m    971\u001b[0m         \u001b[38;5;28mself\u001b[39m\u001b[38;5;241m.\u001b[39madd(dist)\n",
      "File \u001b[0;32m~/anaconda3/lib/python3.11/site-packages/pkg_resources/__init__.py:829\u001b[0m, in \u001b[0;36mWorkingSet.resolve\u001b[0;34m(self, requirements, env, installer, replace_conflicting, extras)\u001b[0m\n\u001b[1;32m    826\u001b[0m \u001b[38;5;28;01mif\u001b[39;00m \u001b[38;5;129;01mnot\u001b[39;00m req_extras\u001b[38;5;241m.\u001b[39mmarkers_pass(req, extras):\n\u001b[1;32m    827\u001b[0m     \u001b[38;5;28;01mcontinue\u001b[39;00m\n\u001b[0;32m--> 829\u001b[0m dist \u001b[38;5;241m=\u001b[39m \u001b[38;5;28mself\u001b[39m\u001b[38;5;241m.\u001b[39m_resolve_dist(\n\u001b[1;32m    830\u001b[0m     req, best, replace_conflicting, env, installer, required_by, to_activate\n\u001b[1;32m    831\u001b[0m )\n\u001b[1;32m    833\u001b[0m \u001b[38;5;66;03m# push the new requirements onto the stack\u001b[39;00m\n\u001b[1;32m    834\u001b[0m new_requirements \u001b[38;5;241m=\u001b[39m dist\u001b[38;5;241m.\u001b[39mrequires(req\u001b[38;5;241m.\u001b[39mextras)[::\u001b[38;5;241m-\u001b[39m\u001b[38;5;241m1\u001b[39m]\n",
      "File \u001b[0;32m~/anaconda3/lib/python3.11/site-packages/pkg_resources/__init__.py:875\u001b[0m, in \u001b[0;36mWorkingSet._resolve_dist\u001b[0;34m(self, req, best, replace_conflicting, env, installer, required_by, to_activate)\u001b[0m\n\u001b[1;32m    872\u001b[0m \u001b[38;5;28;01mif\u001b[39;00m dist \u001b[38;5;129;01mnot\u001b[39;00m \u001b[38;5;129;01min\u001b[39;00m req:\n\u001b[1;32m    873\u001b[0m     \u001b[38;5;66;03m# Oops, the \"best\" so far conflicts with a dependency\u001b[39;00m\n\u001b[1;32m    874\u001b[0m     dependent_req \u001b[38;5;241m=\u001b[39m required_by[req]\n\u001b[0;32m--> 875\u001b[0m     \u001b[38;5;28;01mraise\u001b[39;00m VersionConflict(dist, req)\u001b[38;5;241m.\u001b[39mwith_context(dependent_req)\n\u001b[1;32m    876\u001b[0m \u001b[38;5;28;01mreturn\u001b[39;00m dist\n",
      "\u001b[0;31mContextualVersionConflict\u001b[0m: (jupyter-server 1.23.4 (/Users/genebelinario/anaconda3/lib/python3.11/site-packages), Requirement.parse('jupyter-server>=1.24.0'), {'jupyter-server-proxy'})"
     ]
    }
   ],
   "source": [
    "import vpython"
   ]
  },
  {
   "cell_type": "code",
   "execution_count": 4,
   "metadata": {},
   "outputs": [
    {
     "ename": "ModuleNotFoundError",
     "evalue": "No module named 'vpython'",
     "output_type": "error",
     "traceback": [
      "\u001b[0;31m---------------------------------------------------------------------------\u001b[0m",
      "\u001b[0;31mModuleNotFoundError\u001b[0m                       Traceback (most recent call last)",
      "Cell \u001b[0;32mIn[4], line 63\u001b[0m\n\u001b[1;32m     43\u001b[0m A[\u001b[38;5;241m2\u001b[39m:,] \u001b[38;5;241m=\u001b[39m a2\n\u001b[1;32m     45\u001b[0m \u001b[38;5;66;03m#==============================================================================\u001b[39;00m\n\u001b[1;32m     46\u001b[0m \u001b[38;5;66;03m# for i in range(100):\u001b[39;00m\n\u001b[1;32m     47\u001b[0m \u001b[38;5;66;03m# \tv = b1*ksi[1:N] + b2*(ksi[2:N+1] + ksi[0:N-1])\u001b[39;00m\n\u001b[0;32m   (...)\u001b[0m\n\u001b[1;32m     59\u001b[0m \u001b[38;5;66;03m# Ap[N-2,N-2] = a2\u001b[39;00m\n\u001b[1;32m     60\u001b[0m \u001b[38;5;66;03m#==============================================================================\u001b[39;00m\n\u001b[0;32m---> 63\u001b[0m \u001b[38;5;28;01mfrom\u001b[39;00m \u001b[38;5;21;01mvpython\u001b[39;00m \u001b[38;5;28;01mimport\u001b[39;00m curve, rate\n\u001b[1;32m     65\u001b[0m ksi_c \u001b[38;5;241m=\u001b[39m curve()\n\u001b[1;32m     66\u001b[0m ksi_c\u001b[38;5;241m.\u001b[39mset_x(x\u001b[38;5;241m-\u001b[39mL\u001b[38;5;241m/\u001b[39m\u001b[38;5;241m2\u001b[39m)\n",
      "\u001b[0;31mModuleNotFoundError\u001b[0m: No module named 'vpython'"
     ]
    }
   ],
   "source": [
    "# -*- coding: utf-8 -*-\n",
    "\"\"\"\n",
    "Created on Tue Aug 20 09:33:40 2013\n",
    "\n",
    "@author: akels\n",
    "\"\"\"\n",
    "#from __future__ import division, print_function\n",
    "#from os import sys\n",
    "#sys.path.append('cpresources')\n",
    "#from banded import banded\n",
    "from pylab import *\n",
    "\n",
    "h = 1e-18*10\n",
    "hbar = 1.0546e-36\n",
    "L = 1e-8\n",
    "M = 9.109e-31\n",
    "N = 1000 # Grid slices\n",
    "\n",
    "a = L/N\n",
    "\n",
    "a1 = 1 + h*hbar/2/M/a**2*1j\n",
    "a2 = -h*hbar*1j/4/M/a**2\n",
    "b1 =  1 - h*hbar/2/M/a**2*1j\n",
    "b2 =  h*hbar*1j/4/M/a**2\n",
    "\n",
    "ksi = zeros(N+1,complex)\n",
    "\n",
    "def ksi0(x):\n",
    "\tx0 = L/2\n",
    "\tsigma = 1e-10\n",
    "\tk = 5e10\n",
    "\treturn exp(-(x-x0)**2/2/sigma**2)*exp(1j*k*x)\n",
    "\n",
    "x = linspace(0,L,N+1)\n",
    "ksi[:] = ksi0(x)\n",
    "ksi[[0,N]]=0\n",
    "\n",
    "\n",
    "A = empty((3,N),complex)\n",
    "\n",
    "A[0,:] = a2\n",
    "A[1,:] = a1\n",
    "A[2:,] = a2\n",
    "\n",
    "#==============================================================================\n",
    "# for i in range(100):\n",
    "# \tv = b1*ksi[1:N] + b2*(ksi[2:N+1] + ksi[0:N-1])\n",
    "# \tksi[1:N] = banded(A,v,1,1)\n",
    "#==============================================================================\n",
    "\n",
    "#plot(ksi)\n",
    "\n",
    "#==============================================================================\n",
    "# Ap = zeros((N-1,N-1),complex)\n",
    "# for i in range(N-2):\n",
    "# \tAp[i,i] = a2\n",
    "# \tAp[i+1,i] = a1 #Bottom\n",
    "# \tAp[i,i+1] = a1 #Right\n",
    "# Ap[N-2,N-2] = a2\n",
    "#==============================================================================\n",
    "\n",
    "\n",
    "from vpython import curve, rate\n",
    "\n",
    "ksi_c = curve()\n",
    "ksi_c.set_x(x-L/2)\n",
    "\n",
    "#ksi = banded(A,v,1,1)\n",
    "while True:\n",
    "\trate(30)\n",
    "\tksi_c.set_y(real(ksi)*1e-9)\n",
    "\tksi_c.set_z(imag(ksi)*1e-9)\t\n",
    "\tfor i in range(20):\n",
    "\t\tv = b1*ksi[1:N] + b2*(ksi[2:N+1] + ksi[0:N-1])\n",
    "\t\tksi[1:N] = banded(A,v,1,1)\n",
    "\n",
    "\n",
    "#plot(ksi)"
   ]
  },
  {
   "cell_type": "code",
   "execution_count": null,
   "metadata": {},
   "outputs": [],
   "source": []
  }
 ],
 "metadata": {
  "colab": {
   "provenance": [
    {
     "file_id": "1FJlZnhC4nq-8ag5P6s8R5x9AryccJwSV",
     "timestamp": 1598775074680
    }
   ]
  },
  "kernelspec": {
   "display_name": "Python 3",
   "name": "python3"
  },
  "language_info": {
   "codemirror_mode": {
    "name": "ipython",
    "version": 3
   },
   "file_extension": ".py",
   "mimetype": "text/x-python",
   "name": "python",
   "nbconvert_exporter": "python",
   "pygments_lexer": "ipython3",
   "version": "3.11.8"
  }
 },
 "nbformat": 4,
 "nbformat_minor": 0
}
