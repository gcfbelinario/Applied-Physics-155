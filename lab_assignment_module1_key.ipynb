{
 "cells": [
  {
   "cell_type": "markdown",
   "metadata": {
    "id": "G0BcK0H_G1Iu"
   },
   "source": [
    "# **AP155 Lab Assignment**\n",
    "## Module 1: Integrals and Derivatives\n",
    "\n",
    "_Instructions_: Answer each problem as completely as you can. Discuss **all** your answers as clearly and concisely as possible.\n",
    "\n",
    "_Scoring Criteria_: 50% - *correctness of code*; 50% - *discussion of the code and results*. Maximum score is **100 points**.\n",
    "\n",
    "\n"
   ]
  },
  {
   "cell_type": "markdown",
   "metadata": {
    "id": "PeHZ9kP8JaVR"
   },
   "source": [
    "### Notebook Key\n",
    "Author: GC Belinario\n"
   ]
  },
  {
   "cell_type": "markdown",
   "metadata": {
    "id": "X1UGsRpW-eQs"
   },
   "source": [
    "### Grading Information (c/o Lab Instructor)\n",
    "\n",
    "TOTAL SCORE: **XX**/100\n",
    "\n",
    "Score breakdown:\n",
    "* Problem 1 - XX/30\n",
    "* Problem 2 - XX/30\n",
    "* Problem 3 - XX/40\n",
    "\n",
    "_Date and Time Scored (MM/DD/YYYY HH:MM AM/PM):_"
   ]
  },
  {
   "cell_type": "markdown",
   "metadata": {
    "id": "LxWuqiCFMsEh"
   },
   "source": [
    "### PROBLEM 1\n",
    "**Integration using the trapezoidal rule and Simpson's rule**\n",
    "\n",
    "Calculate the integral of the function $ 2x^4 + 3x^2 + 4x + 5$ from $x=0$ to $x=5$.\n",
    "\n",
    "1. Do the numerical calculation using the trapezoidal rule with 10, 100, and 1,000 slices. Describe each step of the calculation clearly and concisely. *(10 pts.)*\n",
    "\n",
    "2. What are the percentage errors of your answers in (1)? *(10 pts.)*\n",
    "\n",
    "3. Repeat the calculation using Simpson's rule with 10, 100, and 1,000 slices. Describe each step of the calculation clearly and concisely. *(5 pts.)*\n",
    "\n",
    "4. What are the percentage errors of your answers in (3)? How do they compare with the results from (1) for the same number of slices? *(5 pts.)*"
   ]
  },
  {
   "cell_type": "code",
   "execution_count": 6,
   "metadata": {
    "id": "hMqWOsbIMoUh"
   },
   "outputs": [],
   "source": [
    "# import packages here\n",
    "import numpy as np\n",
    "import matplotlib.pyplot as plt"
   ]
  },
  {
   "cell_type": "code",
   "execution_count": 7,
   "metadata": {},
   "outputs": [
    {
     "name": "stdout",
     "output_type": "stream",
     "text": [
      "True Integral = 1450.0\n",
      "For N=10: Area = 1471.4375, %Error = 1.478448275862069%\n",
      "For N=100: Area = 1450.2145812500003, %Error = 0.01479870689656999%\n",
      "For N=1000: Area = 1450.0021458331234, %Error = 0.00014798849127240326%\n"
     ]
    }
   ],
   "source": [
    "# integration with Trapezoidal Rule\n",
    "\n",
    "## define a function for the given mathematical function\n",
    "def f(x):\n",
    "    return 2*x**4 + 3*x**2 + 4*x + 5\n",
    "\n",
    "## function for true integral\n",
    "def f_int(x):\n",
    "    return (2/5)*x**5 + x**3 + 2*x**2 + 5*x\n",
    "\n",
    "## domain\n",
    "a = 0\n",
    "b = 5\n",
    "\n",
    "## check true value of integral\n",
    "true_value = f_int(b) - f_int(a)\n",
    "print(f\"True Integral = {true_value}\")\n",
    "\n",
    "## define a function that uses trapezoidal rule\n",
    "def int_trap(a,b,N):\n",
    "    h = (b-a)/N\n",
    "    s = 0.5*(f(b)+f(a))\n",
    "    for k in range(1,N):\n",
    "        s += f(a+k*h)\n",
    "\n",
    "    return h*s\n",
    "\n",
    "## numerical integration for N = 10, 100, 1000 slices\n",
    "results_trap = [int_trap(a,b,N) for N in [10,100,1000]]\n",
    "\n",
    "for result in results_trap:\n",
    "    slice = results_trap.index(result)\n",
    "    N = 10**(slice+1)\n",
    "    print(f\"For N={N}: Area = {result}, %Error = {100*abs(result-true_value)/true_value}%\")"
   ]
  },
  {
   "cell_type": "code",
   "execution_count": 8,
   "metadata": {},
   "outputs": [
    {
     "name": "stdout",
     "output_type": "stream",
     "text": [
      "True Integral = 1450.0\n",
      "For N=10: Area = 1450.0833333333333, %Error = 0.005747126436776382%\n",
      "For N=100: Area = 1450.0000083333337, %Error = 5.747126657485657e-07%\n",
      "For N=1000: Area = 1450.0000000008342, %Error = 5.753338035870472e-11%\n"
     ]
    }
   ],
   "source": [
    "## define a function that uses Simpson's rule\n",
    "def int_simp(a,b,N):\n",
    "    h = (b-a)/N\n",
    "    s = f(a) + f(b)\n",
    "    for k in range(1,N,2):\n",
    "        s += 4*f(a+k*h)\n",
    "    for k in range(2,N,2):\n",
    "        s += 2*f(a+k*h)\n",
    "\n",
    "    return (h/3)*s\n",
    "\n",
    "results_simp = [int_simp(a,b,N) for N in [10,100,1000]]\n",
    "\n",
    "## check true value of integral\n",
    "print(f\"True Integral = {true_value}\")\n",
    "\n",
    "## numerical integration for N = 10, 100, 1000 slices\n",
    "for result in results_simp:\n",
    "    slice = results_simp.index(result)\n",
    "    N = 10**(slice+1)\n",
    "    print(f\"For N={N}: Area = {result}, %Error = {100*abs(result-true_value)/true_value}%\")"
   ]
  },
  {
   "cell_type": "markdown",
   "metadata": {
    "id": "m2a6sg90R-NX"
   },
   "source": [
    "### PROBLEM 2\n",
    "\n",
    "**Integration using Gaussian quadrature**\n",
    "\n",
    "Calculate the integral from Problem 1 using the Gaussian quadrature method: $ 2x^4 + 3x^2 + 4x + 5$ from $x=0$ to $x=5$.\n",
    "\n",
    "1. Define the function $\\tt gaussxw$ from Appendix E of the Newman text (and run the cell). *(10 pts.)*\n",
    "\n",
    "2. Calculate the integral using the $\\tt gaussxw$ function in (1) and number of slices $N = 3$. Describe each step in the calculation clearly and concisely. *(20 pts.)*"
   ]
  },
  {
   "cell_type": "code",
   "execution_count": 10,
   "metadata": {},
   "outputs": [],
   "source": [
    "# define the gaussxw function based on Newman script\n",
    "from numpy import ones,copy,cos,tan,pi,linspace\n",
    "\n",
    "def gaussxw(N):\n",
    "\n",
    "    # Initial approximation to roots of the Legendre polynomial\n",
    "    a = linspace(3,4*N-1,N)/(4*N+2)\n",
    "    x = cos(pi*a+1/(8*N*N*tan(a)))\n",
    "\n",
    "    # Find roots using Newton's method\n",
    "    epsilon = 1e-15\n",
    "    delta = 1.0\n",
    "    while delta>epsilon:\n",
    "        p0 = ones(N,float)\n",
    "        p1 = copy(x)\n",
    "        for k in range(1,N):\n",
    "            p0,p1 = p1,((2*k+1)*x*p1-k*p0)/(k+1)\n",
    "        dp = (N+1)*(p0-x*p1)/(1-x*x)\n",
    "        dx = p1/dp\n",
    "        x -= dx\n",
    "        delta = max(abs(dx))\n",
    "\n",
    "    # Calculate the weights\n",
    "    w = 2*(N+1)*(N+1)/(N*N*(1-x*x)*dp*dp)\n",
    "\n",
    "    return x,w\n",
    "\n",
    "def gaussxwab(N,a,b):\n",
    "    x,w = gaussxw(N)\n",
    "    return 0.5*(b-a)*x+0.5*(b+a),0.5*(b-a)*w"
   ]
  },
  {
   "cell_type": "code",
   "execution_count": 11,
   "metadata": {},
   "outputs": [
    {
     "name": "stdout",
     "output_type": "stream",
     "text": [
      "True Integral = 1450.0\n",
      "For N=3: Area=1450.000000000002, $Error=1.4112848820614404e-13%\n"
     ]
    }
   ],
   "source": [
    "## integration using Gaussian Quadrature\n",
    "\n",
    "## reuse the same function and same integration details with the previous item\n",
    "def f(x):\n",
    "    return 2*x**4 + 3*x**2 + 4*x + 5\n",
    "\n",
    "## function for true integral\n",
    "def f_int(x):\n",
    "    return (2/5)*x**5 + x**3 + 2*x**2 + 5*x\n",
    "\n",
    "## domain\n",
    "a = 0\n",
    "b = 5\n",
    "\n",
    "## check true value of integral\n",
    "true_value = f_int(b) - f_int(a)\n",
    "print(f\"True Integral = {true_value}\")\n",
    "\n",
    "N_gauss = 3\n",
    "s_gauss = 0\n",
    "\n",
    "x_k, w_k = gaussxwab(N=N_gauss, a=a, b=b)\n",
    "\n",
    "for k in range(N_gauss):\n",
    "    s_gauss += w_k[k]*f(x_k[k])\n",
    "\n",
    "print(f\"For N=3: Area={s_gauss}, $Error={100*abs(s_gauss-true_value)/true_value}%\")"
   ]
  },
  {
   "cell_type": "markdown",
   "metadata": {
    "id": "HceOjNu-VfN9"
   },
   "source": [
    "### PROBLEM 3\n",
    "\n",
    "**Physics Application: Anharmonic Oscillator**\n",
    "\n",
    "_Refer to Exercise 5.10 of the Newman text._ Consider an anharmonic oscillator with potential $V(x)$ symmetric about $x = 0$. Let us set our anharmonic oscillator going with amplitude $a$. That is, at $t = 0$ we release it from rest at position $x = a$ and it swings back towards the origin. Then at $t = 0$ we have $dx/dt = 0$ and the equation for its total energy becomes $E = V(a)$, i.e., the total energy of the particle is given in terms of the amplitude.\n",
    "\n",
    "When the particle reaches the origin for the first time, it has gone through one quarter of a period of the oscillator. The period $T$ is given by: $$ T = \\sqrt{8m} \\int_0^a \\frac{dx}{\\sqrt{V(a)-V(x)}}. $$\n",
    "\n",
    "1. Suppose the potential is $V(x) = x^4$ and the mass of the particle is $m = 1$. Write a Python function that calculates the period of the oscillator for given amplitude a using Gaussian quadrature with $N = 20$ points. Describe each step clearly and concisely. *(20 pts.)*\n",
    "\n",
    "2. Use your function to make a graph of the period for amplitudes ranging from $a = 0$ to $a = 2$. Describe the behavior you find and explain these results clearly and concisely. *(20 pts.)*"
   ]
  },
  {
   "cell_type": "code",
   "execution_count": 13,
   "metadata": {
    "id": "p28JF-OQYock"
   },
   "outputs": [],
   "source": [
    "import numpy as np\n",
    "\n",
    "## define the potential function\n",
    "def V(x):\n",
    "    return x**4\n",
    "\n",
    "## define the function for the period\n",
    "def period(a,m,N):\n",
    "    c = np.sqrt(8*m)\n",
    "    \n",
    "    xk, wk = gaussxwab(N=N, a=0, b=a)\n",
    "    \n",
    "    s = 0\n",
    "    for k in range(N):\n",
    "        s += wk[k]*((V(a)-V(xk[k]))**(-1/2))\n",
    "\n",
    "    return c*s"
   ]
  },
  {
   "cell_type": "code",
   "execution_count": 22,
   "metadata": {},
   "outputs": [
    {
     "data": {
      "text/plain": [
       "[<matplotlib.lines.Line2D at 0x1421e1460>]"
      ]
     },
     "execution_count": 22,
     "metadata": {},
     "output_type": "execute_result"
    },
    {
     "data": {
      "image/png": "[encoded data removed]",
      "text/plain": [
       "<Figure size 640x480 with 1 Axes>"
      ]
     },
     "metadata": {},
     "output_type": "display_data"
    }
   ],
   "source": [
    "import warnings\n",
    "warnings.filterwarnings(\"ignore\")\n",
    "\n",
    "m = 1\n",
    "N = 20\n",
    "\n",
    "x = np.linspace(0.01,2,10000)\n",
    "periods = np.array([period(a=xa, m=1, N=N) for xa in x])\n",
    "plt.xlabel(\"Amplitude\")\n",
    "plt.ylabel(\"Period\")\n",
    "\n",
    "plt.plot(x, periods)"
   ]
  }
 ],
 "metadata": {
  "colab": {
   "provenance": []
  },
  "kernelspec": {
   "display_name": "Python 3 (ipykernel)",
   "language": "python",
   "name": "python3"
  },
  "language_info": {
   "codemirror_mode": {
    "name": "ipython",
    "version": 3
   },
   "file_extension": ".py",
   "mimetype": "text/x-python",
   "name": "python",
   "nbconvert_exporter": "python",
   "pygments_lexer": "ipython3",
   "version": "3.12.2"
  }
 },
 "nbformat": 4,
 "nbformat_minor": 4
}
