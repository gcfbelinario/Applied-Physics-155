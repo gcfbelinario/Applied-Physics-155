{
 "cells": [
  {
   "cell_type": "markdown",
   "metadata": {
    "id": "G0BcK0H_G1Iu"
   },
   "source": [
    "# **AP155 Lab Assignment**\n",
    "## Module 2: Solution of Linear and Nonlinear Equations\n",
    "\n",
    "_Instructions_: Answer each problem as completely as you can. Discuss **all** your answers as clearly and concisely as possible.\n",
    "\n",
    "_Scoring Criteria_: 50% - *correctness of code*; 50% - *discussion of the code and results*. Maximum score is **100 points**.\n",
    "\n"
   ]
  },
  {
   "cell_type": "markdown",
   "metadata": {},
   "source": [
    "**Notebook Key**\n",
    "\n",
    "Author: Gene Carlo F. Belinario"
   ]
  },
  {
   "cell_type": "code",
   "execution_count": 99,
   "metadata": {},
   "outputs": [],
   "source": [
    "## import packages here\n",
    "import numpy as np\n",
    "import matplotlib.pyplot as plt\n",
    "import warnings\n",
    "\n",
    "warnings.filterwarnings(\"ignore\")"
   ]
  },
  {
   "cell_type": "markdown",
   "metadata": {
    "id": "kBX9EyMLOnXj"
   },
   "source": [
    "### PROBLEM 1\n",
    "\n",
    "**Solve for eigenvalues and eigenvectors of a symmetric matrix**\n",
    "\n",
    "1. Use numpy's $\\tt linalg$ package to find the eigenvalues and eigenvectors of the ff. symmetrix matrix *(15 pts.)*:\n",
    "\n",
    "$ \\begin{equation}\n",
    "{\\bf A} =\n",
    "\\begin{pmatrix}\n",
    "8 & -2 & -20 \\\\\n",
    "-2 & -3 & -9 \\\\\n",
    "-20 & -9 & -3\n",
    "\\end{pmatrix} \\end{equation} $\n",
    "\n",
    "2. Check your answer numerically; that is, check that $\\bf AV = VD$, where the $N$ x $N$ matrix $\\bf V$ has the eigenvectors as its columns and $\\bf D$ is the diagonal matrix with the eigenvalues $\\lambda_i$ as its diagonal entries. *(15 pts.)*"
   ]
  },
  {
   "cell_type": "code",
   "execution_count": 57,
   "metadata": {},
   "outputs": [
    {
     "name": "stdout",
     "output_type": "stream",
     "text": [
      "Eigenvalues: [-21.99606195   0.16021522  23.83584674]\n",
      "Eigenvector columns: \n",
      " [[ 0.52496527  0.36793396 -0.76748685]\n",
      " [ 0.40892672 -0.89987151 -0.15169114]\n",
      " [ 0.74645187  0.2342133   0.62285932]]\n"
     ]
    }
   ],
   "source": [
    "## define the N by N matrix as a numpy array\n",
    "A = np.array([[8, -2, -20],\n",
    "              [-2, -3, -9],\n",
    "              [-20, -9, -3]])\n",
    "\n",
    "## use the linalg function to find the eigenvalues and the eigenvectors of matrix A\n",
    "eigval, V = np.linalg.eigh(A)\n",
    "\n",
    "## eigval is a 1D array that contains the calculated eigenvalues \n",
    "## V is the 3x3 matrix where each column V[:,i] corresponds to the eigenvectors for the i-th eigenvalue in eigval \n",
    "\n",
    "print(\"Eigenvalues:\", eigval)\n",
    "print(\"Eigenvector columns: \\n\", V)"
   ]
  },
  {
   "cell_type": "code",
   "execution_count": 58,
   "metadata": {},
   "outputs": [
    {
     "name": "stdout",
     "output_type": "stream",
     "text": [
      "[[-11.54716868   0.05894862 -18.29369893]\n",
      " [ -8.99477756  -0.14417311  -3.61568676]\n",
      " [-16.4190016    0.03752454  14.8463793 ]]\n",
      "[[-11.54716868   0.05894862 -18.29369893]\n",
      " [ -8.99477756  -0.14417311  -3.61568676]\n",
      " [-16.4190016    0.03752454  14.8463793 ]]\n"
     ]
    }
   ],
   "source": [
    "## define eigenvalue matrix D\n",
    "D = np.diag(eigval)\n",
    "\n",
    "## use multiply matrix at the RHS\n",
    "RHS = np.matmul(A,V)\n",
    "LHS = np.matmul(V,D)\n",
    "\n",
    "## check matrices on the RHS and LHS of the equation\n",
    "print(RHS)\n",
    "print(LHS)"
   ]
  },
  {
   "cell_type": "markdown",
   "metadata": {},
   "source": [
    "Note that the elements in the matrices above only display digits up to a certain precision. When accessed, the corresponding elements may not entirely be equivalent. We therefore resort to calculating the difference between the corresponding elements and check if the difference is below a tolerance value close to zero. "
   ]
  },
  {
   "cell_type": "code",
   "execution_count": 59,
   "metadata": {},
   "outputs": [
    {
     "name": "stdout",
     "output_type": "stream",
     "text": [
      "AV_00,VD_00: EQUAL\n",
      "AV_01,VD_01: EQUAL\n",
      "AV_02,VD_02: EQUAL\n",
      "AV_10,VD_10: EQUAL\n",
      "AV_11,VD_11: EQUAL\n",
      "AV_12,VD_12: EQUAL\n",
      "AV_20,VD_20: EQUAL\n",
      "AV_21,VD_21: EQUAL\n",
      "AV_22,VD_22: EQUAL\n"
     ]
    }
   ],
   "source": [
    "## matrix dimension\n",
    "rows, columns = 3, 3\n",
    "## tolerance\n",
    "epsilon = 10**(-12)\n",
    "\n",
    "## define a for loop that compares elements of AV and VD\n",
    "for row in range(rows):\n",
    "    for column in range(columns):\n",
    "        diff = RHS[row][column] - LHS[row][column]\n",
    "        if diff > epsilon:\n",
    "            print(f\"AV_{row}{column},VD_{row}{column}: NOT EQUAL\")\n",
    "        else:\n",
    "            print(f\"AV_{row}{column},VD_{row}{column}: EQUAL\")"
   ]
  },
  {
   "cell_type": "markdown",
   "metadata": {
    "id": "HceOjNu-VfN9"
   },
   "source": [
    "### PROBLEM 2\n",
    "\n",
    "**Solve a nonlinear equation using the relaxation method**\n",
    "\n",
    "Consider the equation $x=1- e^{-cx}$, where $c$ is a known parameter and $x$ is unknown. This equation arises in a variety of situations, including the physics of contact processes, mathematical models of epidemics, and the theory of random graphs.\n",
    "\n",
    "1. Write a program to solve this equation for $x$ using the relaxation method for the case $c = 2$. Calculate your solution to an accuracy of at least $10^{-6}$. *(10 pts.)*\n",
    "\n",
    "2. Modify your program to calculate the solution for values of $c$ from 0 to 3 in steps of 0.01. *(10 pts.)*\n",
    "\n",
    "3. Make a plot of $x$ as a function of $c$. Describe the different regimes that you see. *(10 pts.)*"
   ]
  },
  {
   "cell_type": "code",
   "execution_count": 76,
   "metadata": {
    "id": "p28JF-OQYock"
   },
   "outputs": [],
   "source": [
    "def relax(c, x0, accuracy, show_iter_sol=False):\n",
    "\n",
    "    i = 1\n",
    "    \n",
    "    def f(x):\n",
    "        return 1 - np.exp(-c*x)\n",
    "    \n",
    "    def error(x1, x2):\n",
    "        return (x1 - x2) / (1 - 1/(c*np.exp(-c*x1)))\n",
    "    \n",
    "    x1 = x0\n",
    "    x2 = f(x1)\n",
    "\n",
    "    while abs(error(x1, x2)) > accuracy:\n",
    "        x1, x2 = x2, f(x2)\n",
    "        i += 1\n",
    "    \n",
    "    if show_iter_sol == True:\n",
    "        print(f\"Iterations:{i}\")\n",
    "        print(f\"Solution:{x2}\")\n",
    "\n",
    "    return x2"
   ]
  },
  {
   "cell_type": "code",
   "execution_count": 79,
   "metadata": {},
   "outputs": [
    {
     "name": "stdout",
     "output_type": "stream",
     "text": [
      "Iterations:15\n",
      "Solution:0.7968113781935964\n"
     ]
    }
   ],
   "source": [
    "## solve the equation for c=2\n",
    "epsilon = 10**(-6)\n",
    "c = 2\n",
    "x0 = 0.5\n",
    "\n",
    "x = relax(c=c, x0=x0, accuracy=epsilon, show_iter_sol=True)"
   ]
  },
  {
   "cell_type": "code",
   "execution_count": 100,
   "metadata": {},
   "outputs": [],
   "source": [
    "## generate solution for c=0 to c=3\n",
    "c_start = 0\n",
    "c_end = 3\n",
    "step = 0.01\n",
    "\n",
    "x0 = 1\n",
    "epsilon = 10**(-6)\n",
    "\n",
    "c = np.arange(c_start, c_end + step, step)\n",
    "x = [relax(c=cc, x0=x0, accuracy=epsilon) for cc in c]\n"
   ]
  },
  {
   "cell_type": "code",
   "execution_count": 111,
   "metadata": {},
   "outputs": [
    {
     "data": {
      "image/png": "[encoded data removed]",
      "text/plain": [
       "<Figure size 640x480 with 1 Axes>"
      ]
     },
     "metadata": {},
     "output_type": "display_data"
    }
   ],
   "source": [
    "plt.scatter(c, x, s=10)\n",
    "plt.xlabel(r\"$c$\")\n",
    "plt.ylabel(r\"$x$\")\n",
    "plt.grid()\n",
    "plt.show()"
   ]
  },
  {
   "cell_type": "markdown",
   "metadata": {},
   "source": [
    "The graph shows that for $0 \\leq c \\leq 1$, the solution of the equation is $x=0$. Outside this range, the equation has a non-zero solution. From this, we distinguish two regimes where the solution is $x=0$ and for when the solution is $x \\neq 0$. \n",
    "\n",
    "The concavity of the graph suggests solutions beyond $c = 3$. By changing `c_end` to values far greater than $3$, we will see that the solution approaches $x=1$. As an extension, we should be observing another regime where the solution stabilizes to $x = 1$."
   ]
  },
  {
   "cell_type": "markdown",
   "metadata": {
    "id": "BY5x-mZsYoqG"
   },
   "source": [
    "### PROBLEM 3\n",
    "\n",
    "**Physics Application: Calculating the Lagrange point**\n",
    "\n",
    "_Refer to Exercise 6.16 of the Newman text._ The $L_1$ Lagrange point is the point between the Earth and the Moon at which a satellite will orbit the Earth in perfect synchrony with the Moon, staying always in between the two.\n",
    "\n",
    "Assuming circular orbits, and assuming that the Earth is much more massive than either the Moon or the satellite, the distance $r$ from the center of the Earth to the $L_1$ point satisfies\n",
    "$$ \\begin{equation}\n",
    "\\frac{GM}{r^2} - \\frac{Gm}{(R-r)^2} = \\omega^2 r,\n",
    "\\end{equation} $$\n",
    "where $R$ is the distance from the Earth to the Moon, $M$ and $m$ are the Earth and Moon masses, $G$ is Newton's gravitational constant, and $\\omega$ is the angular velocity of both the Moon and the satellite."
   ]
  },
  {
   "cell_type": "markdown",
   "metadata": {
    "id": "LlDDXIZ46CKU"
   },
   "source": [
    "Use Newton's method to solve for the distance r from the Earth to the $L_1$ point. Compute a solution accurate to at least four significant figures."
   ]
  },
  {
   "cell_type": "code",
   "execution_count": 122,
   "metadata": {
    "id": "Jiu5YAx6aMmq"
   },
   "outputs": [],
   "source": [
    "## define constants in the problem and express in SI units\n",
    "G = 6.674 * 10 ** (-11)       # gravitational constant in N m^2 / kg^2\n",
    "M = 5.974 * 10 ** 24          # mass of Earth in kg\n",
    "m = 7.348 * 10 ** 22          # mass of moon in kg\n",
    "R = 3.844 * 10 ** 8           # distance from Earth to Moon in m\n",
    "w = 2.662 * 10 ** (-6)        # angular velocity of the Moon and the satellite around the Earth in rad/s\n",
    "\n",
    "def f(r):\n",
    "    return G*M*(R-r)**2 - (r**2)*G*m - (w**2)*(r**3)*(R-r)**2\n",
    "\n",
    "def fprime(r):\n",
    "    return -2*G*(M*(R-r)+m*r) - (w**2)*(r**2)*(R-r)*(3*R-5*r)"
   ]
  },
  {
   "cell_type": "markdown",
   "metadata": {},
   "source": [
    "We transformed Equation (1) into the form $f(r)$ and find $f'(r)$ as follows: \n",
    "\n",
    "\\begin{equation}\n",
    "f(r) = GM(R-r)^2 - Gmr^2 -\\omega ^2 r^3 (R-r)^2 \\tag{2}\n",
    "\\end{equation}\n",
    "\n",
    "\\begin{equation}\n",
    "f'(r) = -2GM(R-r) - 2Gmr - \\omega^2 \\left[ 3r^2(R-r)^2 - 2r^3(R-r) \\right] \\tag{3}\n",
    "\\end{equation}\n",
    "\n",
    "\\begin{equation}\n",
    "f'(r) = -2G\\left[ M(R-r) + mr \\right] - \\omega^2 r^2 (R-r) (3R - 5r) \\tag{4}\n",
    "\\end{equation}"
   ]
  },
  {
   "cell_type": "code",
   "execution_count": 123,
   "metadata": {},
   "outputs": [],
   "source": [
    "## use Newton's method to find the root\n",
    "def root(f, g, start, accuracy):\n",
    "    x =  start\n",
    "    d = f(x) / g(x)\n",
    "\n",
    "    while abs(d) > accuracy:\n",
    "        d = f(x) / g(x)\n",
    "        x -= d\n",
    "    \n",
    "    print(x)\n",
    "    \n",
    "    return x"
   ]
  },
  {
   "cell_type": "markdown",
   "metadata": {},
   "source": [
    "A safe and physically reasonable initial guess for $r$ would be a number which is of the same order of magnitude as $R$. In this key, we arbitrarily choose $r=3 \\times 10^{8}$ as the initial guess."
   ]
  },
  {
   "cell_type": "code",
   "execution_count": 128,
   "metadata": {},
   "outputs": [
    {
     "name": "stdout",
     "output_type": "stream",
     "text": [
      "326045071.66535544\n"
     ]
    }
   ],
   "source": [
    "r0 =  3.0 * 10 ** 8\n",
    "epsilon = 10 ** (-8)\n",
    "\n",
    "r = root(f=f, g=fprime, start=r0, accuracy=epsilon)"
   ]
  },
  {
   "cell_type": "markdown",
   "metadata": {},
   "source": [
    "The Lagrange point therefore is $L_1 = 3.260 \\times 10^{5} \\ \\text{km}$, measured from the center of the Earth."
   ]
  }
 ],
 "metadata": {
  "colab": {
   "provenance": [
    {
     "file_id": "1FJlZnhC4nq-8ag5P6s8R5x9AryccJwSV",
     "timestamp": 1598775074680
    }
   ]
  },
  "kernelspec": {
   "display_name": "Python 3",
   "language": "python",
   "name": "python3"
  },
  "language_info": {
   "codemirror_mode": {
    "name": "ipython",
    "version": 3
   },
   "file_extension": ".py",
   "mimetype": "text/x-python",
   "name": "python",
   "nbconvert_exporter": "python",
   "pygments_lexer": "ipython3",
   "version": "3.11.8"
  }
 },
 "nbformat": 4,
 "nbformat_minor": 4
}
